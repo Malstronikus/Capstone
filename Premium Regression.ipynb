{
 "cells": [
  {
   "cell_type": "code",
   "execution_count": 2,
   "metadata": {
    "collapsed": false
   },
   "outputs": [],
   "source": [
    "import pandas as pd\n",
    "import numpy as np\n",
    "from ipywidgets import *\n",
    "import matplotlib.pyplot as plt"
   ]
  },
  {
   "cell_type": "code",
   "execution_count": 3,
   "metadata": {
    "collapsed": false
   },
   "outputs": [
    {
     "data": {
      "text/html": [
       "<style>body {\n",
       "    margin: 0;\n",
       "    font-family: Helvetica;\n",
       "}\n",
       "table.dataframe {\n",
       "    border-collapse: collapse;\n",
       "    border: none;\n",
       "}\n",
       "table.dataframe tr {\n",
       "    border: none;\n",
       "}\n",
       "table.dataframe td, table.dataframe th {\n",
       "    margin: 0;\n",
       "    border: 1px solid white;\n",
       "    padding-left: 0.25em;\n",
       "    padding-right: 0.25em;\n",
       "}\n",
       "table.dataframe th:not(:empty) {\n",
       "    background-color: #fec;\n",
       "    text-align: left;\n",
       "    font-weight: normal;\n",
       "}\n",
       "table.dataframe tr:nth-child(2) th:empty {\n",
       "    border-left: none;\n",
       "    border-right: 1px dashed #888;\n",
       "}\n",
       "table.dataframe td {\n",
       "    border: 2px solid #ccf;\n",
       "    background-color: #f4f4ff;\n",
       "}\n",
       "h3 {\n",
       "    color: white;\n",
       "    background-color: black;\n",
       "    padding: 0.5em;\n",
       "}\n",
       "</style>"
      ],
      "text/plain": [
       "<IPython.core.display.HTML object>"
      ]
     },
     "execution_count": 3,
     "metadata": {},
     "output_type": "execute_result"
    }
   ],
   "source": [
    "from IPython.core.display import HTML # Load style sheet to improve visual presentation\n",
    "css = open('style-table.css').read() + open('style-notebook.css').read()\n",
    "HTML('<style>{}</style>'.format(css))"
   ]
  },
  {
   "cell_type": "code",
   "execution_count": 16,
   "metadata": {
    "collapsed": true
   },
   "outputs": [],
   "source": [
    "Location = r'/Users/Nick/Desktop/Data-Science-Project/Capstone/Data/Dual_Stock_Short.csv'\n",
    "df = pd.read_csv(Location) # Load data from spreadsheet"
   ]
  },
  {
   "cell_type": "code",
   "execution_count": 17,
   "metadata": {
    "collapsed": false
   },
   "outputs": [
    {
     "data": {
      "text/html": [
       "<div>\n",
       "<table border=\"1\" class=\"dataframe\">\n",
       "  <thead>\n",
       "    <tr style=\"text-align: right;\">\n",
       "      <th></th>\n",
       "      <th>Date</th>\n",
       "      <th>H1DQB</th>\n",
       "      <th>C1DQB</th>\n",
       "      <th>H2DQB</th>\n",
       "      <th>C2DQB</th>\n",
       "      <th>HSAHP</th>\n",
       "      <th>HKDCNY</th>\n",
       "      <th>HKDCNH</th>\n",
       "      <th>ASCNCHIX</th>\n",
       "      <th>RP07</th>\n",
       "      <th>HID1W</th>\n",
       "      <th>VA000011</th>\n",
       "      <th>HSITR Index</th>\n",
       "    </tr>\n",
       "  </thead>\n",
       "  <tbody>\n",
       "    <tr>\n",
       "      <th>0</th>\n",
       "      <td>12/22/16</td>\n",
       "      <td>13848621.0</td>\n",
       "      <td>13000000.0</td>\n",
       "      <td>0.0</td>\n",
       "      <td>13000000.0</td>\n",
       "      <td>125.72</td>\n",
       "      <td>0.90</td>\n",
       "      <td>0.90</td>\n",
       "      <td>NaN</td>\n",
       "      <td>2.25</td>\n",
       "      <td>NaN</td>\n",
       "      <td>40122.88</td>\n",
       "      <td>NaN</td>\n",
       "    </tr>\n",
       "    <tr>\n",
       "      <th>1</th>\n",
       "      <td>12/21/16</td>\n",
       "      <td>13150651.0</td>\n",
       "      <td>13000000.0</td>\n",
       "      <td>0.0</td>\n",
       "      <td>13000000.0</td>\n",
       "      <td>126.08</td>\n",
       "      <td>0.90</td>\n",
       "      <td>0.90</td>\n",
       "      <td>NaN</td>\n",
       "      <td>2.47</td>\n",
       "      <td>NaN</td>\n",
       "      <td>40691.07</td>\n",
       "      <td>NaN</td>\n",
       "    </tr>\n",
       "    <tr>\n",
       "      <th>2</th>\n",
       "      <td>12/20/16</td>\n",
       "      <td>15637425.0</td>\n",
       "      <td>13000000.0</td>\n",
       "      <td>10236717.0</td>\n",
       "      <td>13000000.0</td>\n",
       "      <td>125.33</td>\n",
       "      <td>0.90</td>\n",
       "      <td>0.90</td>\n",
       "      <td>NaN</td>\n",
       "      <td>2.45</td>\n",
       "      <td>0.36</td>\n",
       "      <td>49461.75</td>\n",
       "      <td>20984.92</td>\n",
       "    </tr>\n",
       "    <tr>\n",
       "      <th>3</th>\n",
       "      <td>12/19/16</td>\n",
       "      <td>13982162.0</td>\n",
       "      <td>13848621.0</td>\n",
       "      <td>10006474.0</td>\n",
       "      <td>12609933.0</td>\n",
       "      <td>125.97</td>\n",
       "      <td>0.90</td>\n",
       "      <td>0.90</td>\n",
       "      <td>NaN</td>\n",
       "      <td>2.54</td>\n",
       "      <td>0.32</td>\n",
       "      <td>45108.91</td>\n",
       "      <td>19359.72</td>\n",
       "    </tr>\n",
       "    <tr>\n",
       "      <th>4</th>\n",
       "      <td>12/16/16</td>\n",
       "      <td>12641813.0</td>\n",
       "      <td>13150651.0</td>\n",
       "      <td>10155269.0</td>\n",
       "      <td>12634392.0</td>\n",
       "      <td>124.09</td>\n",
       "      <td>0.89</td>\n",
       "      <td>0.89</td>\n",
       "      <td>NaN</td>\n",
       "      <td>2.48</td>\n",
       "      <td>0.34</td>\n",
       "      <td>48405.39</td>\n",
       "      <td>18095.49</td>\n",
       "    </tr>\n",
       "  </tbody>\n",
       "</table>\n",
       "</div>"
      ],
      "text/plain": [
       "       Date       H1DQB       C1DQB       H2DQB       C2DQB   HSAHP  HKDCNY  \\\n",
       "0  12/22/16  13848621.0  13000000.0         0.0  13000000.0  125.72    0.90   \n",
       "1  12/21/16  13150651.0  13000000.0         0.0  13000000.0  126.08    0.90   \n",
       "2  12/20/16  15637425.0  13000000.0  10236717.0  13000000.0  125.33    0.90   \n",
       "3  12/19/16  13982162.0  13848621.0  10006474.0  12609933.0  125.97    0.90   \n",
       "4  12/16/16  12641813.0  13150651.0  10155269.0  12634392.0  124.09    0.89   \n",
       "\n",
       "   HKDCNH  ASCNCHIX  RP07  HID1W  VA000011  HSITR Index  \n",
       "0    0.90       NaN  2.25    NaN  40122.88          NaN  \n",
       "1    0.90       NaN  2.47    NaN  40691.07          NaN  \n",
       "2    0.90       NaN  2.45   0.36  49461.75     20984.92  \n",
       "3    0.90       NaN  2.54   0.32  45108.91     19359.72  \n",
       "4    0.89       NaN  2.48   0.34  48405.39     18095.49  "
      ]
     },
     "execution_count": 17,
     "metadata": {},
     "output_type": "execute_result"
    }
   ],
   "source": [
    "df.head() #view document columns in header"
   ]
  },
  {
   "cell_type": "code",
   "execution_count": 33,
   "metadata": {
    "collapsed": false
   },
   "outputs": [],
   "source": [
    "# Assign variable names\n",
    "Date = df['Date'] # Date\n",
    "Outflow_SH = df['H1DQB'] # Shanghai Outflow\n",
    "Inflow_SH = df['C1DQB'] # Shanghai Inflow\n",
    "Outflow_SZ = df['H2DQB'] # Shenzhen Outflow\n",
    "Inflow_SZ = df['C2DQB'] # Shenzhen Inflow\n",
    "AH_Premium = df['HSAHP'] # A-H Share Premium\n",
    "Volatility = df['ASCNCHIX'] # China Stock Volatility Index\n",
    "China_IR = df['RP07'] # China 7 Day Repo Rate\n",
    "HK_IR = df['HID1W'] # Hong Kong One Week Repo Rate\n",
    "Ashare_turn = df['VA000011'] # A-Share Turnover\n",
    "Hshare_turn = df['HSITR Index'] # H-Share Turnover"
   ]
  },
  {
   "cell_type": "code",
   "execution_count": 36,
   "metadata": {
    "collapsed": false
   },
   "outputs": [
    {
     "ename": "AttributeError",
     "evalue": "'DataFrame' object has no attribute 'df'",
     "output_type": "error",
     "traceback": [
      "\u001b[0;31m---------------------------------------------------------------------------\u001b[0m",
      "\u001b[0;31mAttributeError\u001b[0m                            Traceback (most recent call last)",
      "\u001b[0;32m<ipython-input-36-fb3334e5d4ef>\u001b[0m in \u001b[0;36m<module>\u001b[0;34m()\u001b[0m\n\u001b[1;32m      1\u001b[0m \u001b[0;31m# Create new varriable for comparison\u001b[0m\u001b[0;34m\u001b[0m\u001b[0;34m\u001b[0m\u001b[0m\n\u001b[1;32m      2\u001b[0m \u001b[0;34m\u001b[0m\u001b[0m\n\u001b[0;32m----> 3\u001b[0;31m \u001b[0mOutflows\u001b[0m \u001b[0;34m=\u001b[0m \u001b[0mdf\u001b[0m\u001b[0;34m.\u001b[0m\u001b[0mdf\u001b[0m\u001b[0;34m[\u001b[0m\u001b[0;34m'H1DQB'\u001b[0m\u001b[0;34m,\u001b[0m\u001b[0;34m'H2DQB'\u001b[0m\u001b[0;34m]\u001b[0m\u001b[0;34m\u001b[0m\u001b[0m\n\u001b[0m",
      "\u001b[0;32m//anaconda/lib/python3.5/site-packages/pandas/core/generic.py\u001b[0m in \u001b[0;36m__getattr__\u001b[0;34m(self, name)\u001b[0m\n\u001b[1;32m   2670\u001b[0m             \u001b[0;32mif\u001b[0m \u001b[0mname\u001b[0m \u001b[0;32min\u001b[0m \u001b[0mself\u001b[0m\u001b[0;34m.\u001b[0m\u001b[0m_info_axis\u001b[0m\u001b[0;34m:\u001b[0m\u001b[0;34m\u001b[0m\u001b[0m\n\u001b[1;32m   2671\u001b[0m                 \u001b[0;32mreturn\u001b[0m \u001b[0mself\u001b[0m\u001b[0;34m[\u001b[0m\u001b[0mname\u001b[0m\u001b[0;34m]\u001b[0m\u001b[0;34m\u001b[0m\u001b[0m\n\u001b[0;32m-> 2672\u001b[0;31m             \u001b[0;32mreturn\u001b[0m \u001b[0mobject\u001b[0m\u001b[0;34m.\u001b[0m\u001b[0m__getattribute__\u001b[0m\u001b[0;34m(\u001b[0m\u001b[0mself\u001b[0m\u001b[0;34m,\u001b[0m \u001b[0mname\u001b[0m\u001b[0;34m)\u001b[0m\u001b[0;34m\u001b[0m\u001b[0m\n\u001b[0m\u001b[1;32m   2673\u001b[0m \u001b[0;34m\u001b[0m\u001b[0m\n\u001b[1;32m   2674\u001b[0m     \u001b[0;32mdef\u001b[0m \u001b[0m__setattr__\u001b[0m\u001b[0;34m(\u001b[0m\u001b[0mself\u001b[0m\u001b[0;34m,\u001b[0m \u001b[0mname\u001b[0m\u001b[0;34m,\u001b[0m \u001b[0mvalue\u001b[0m\u001b[0;34m)\u001b[0m\u001b[0;34m:\u001b[0m\u001b[0;34m\u001b[0m\u001b[0m\n",
      "\u001b[0;31mAttributeError\u001b[0m: 'DataFrame' object has no attribute 'df'"
     ]
    }
   ],
   "source": [
    "# Create new varriable for comparison\n",
    "\n",
    "Outflows = df.df['H1DQB','H2DQB']"
   ]
  },
  {
   "cell_type": "code",
   "execution_count": null,
   "metadata": {
    "collapsed": true
   },
   "outputs": [],
   "source": []
  }
 ],
 "metadata": {
  "kernelspec": {
   "display_name": "Python [conda root]",
   "language": "python",
   "name": "conda-root-py"
  },
  "language_info": {
   "codemirror_mode": {
    "name": "ipython",
    "version": 3
   },
   "file_extension": ".py",
   "mimetype": "text/x-python",
   "name": "python",
   "nbconvert_exporter": "python",
   "pygments_lexer": "ipython3",
   "version": "3.5.2"
  }
 },
 "nbformat": 4,
 "nbformat_minor": 1
}
